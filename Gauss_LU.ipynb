{
 "cells": [
  {
   "cell_type": "markdown",
   "metadata": {},
   "source": [
    "# Resolution par methode directe de Gauss et factorisation LU\n",
    "\n",
    "\n",
    "**Concepts abordés:**\n",
    "* solution par echolonnement de gauss.\n",
    "* decomposition $LU$ a l'aide de la methode de gauss.\n",
    "* decomposition $LL^{T}$ a l'aide de la methode Cholskey.\\\n",
    "\n",
    "On a le systeme $Ax=b$ definie par A = $\\begin{bmatrix} 4& 4&  2& 0\\\\ 4&  5&  0& 0\\\\ 2&  0&  6& 1\\\\ 0&  0&  1& 2 \\end{bmatrix}$\n",
    "et b $\\in \\mathbb{(R^4_{\\ast})}$\\\n",
    "<br>\n",
    "A l'aide de la bibliothèque NumPy qui sert à manipuler des matrices ou tableaux multidimensionnels ainsi que des fonctions mathématiques opérant sur ces tableaux.\\\n",
    "<br>\n",
    "Onimporte un fichier \"utils\" contenons les fonctions utilises dans le code:\n",
    "<br>\n",
    "<br>\n",
    "    * **matprint** : Rendre l' affichage des matrices plus agreable et lisible.\n",
    "<br>\n",
    "    * **GaussSeidel** : La fonction pour la resolution du system par methode de Gauss.\n",
    "<br>\n",
    "    * **Cholesky** : La fonction pour la resoulution du system par methode de Cholesky.\n",
    "<br>\n",
    "<br>\n",
    "On a la matrice suivante :\n",
    "<br>\n",
    "<br>\n",
    "\n",
    "$\\begin{bmatrix} 4& 4&  2& 0\\\\ 4&  5&  0& 0\\\\ 2&  0&  6& 1\\\\ 0&  0&  1& 2 \\end{bmatrix} \\begin{bmatrix} x_{1} \\\\ x_{2} \\\\ x_{3} \\\\ x_{4} \\end{bmatrix} = \\begin{bmatrix} 1 \\\\ 2 \\\\3 \\\\ 4 \\end{bmatrix}$\n",
    "\n",
    "Commencons par l'integration du bibliotheque utilise  et les declaration initial :\\"
   ]
  },
  {
   "cell_type": "code",
   "execution_count": 25,
   "metadata": {},
   "outputs": [],
   "source": [
    "import numpy as np\n",
    "import sys\n",
    "from utils import solver"
   ]
  },
  {
   "cell_type": "code",
   "execution_count": 26,
   "metadata": {},
   "outputs": [],
   "source": [
    "def matprint(mat, fmt=\"g\"):\n",
    "    col_maxes = [max([len((\"{:\"+fmt+\"}\").format(x)) for x in col]) for col in mat.T]\n",
    "    print(\"-\"*100)\n",
    "    for x in mat:\n",
    "        for i, y in enumerate(x):\n",
    "            print((\"{:\"+str(col_maxes[i])+fmt+\"}\").format(y), end=\"  \")\n",
    "        print(\"\")\n",
    "    print(\"-\"*100)\n"
   ]
  },
  {
   "cell_type": "markdown",
   "metadata": {},
   "source": [
    "On commence par definire notre matrice $A$ et $b$ dans python et les stacker pour creer une matrice \n",
    "augmenter qui va nous aider dans les calcules."
   ]
  },
  {
   "cell_type": "code",
   "execution_count": 27,
   "metadata": {},
   "outputs": [],
   "source": [
    "A = np.array([[4, 4, 2, 0], [4, 5, 0, 0], [2, 0, 6, 1], [0, 0, 1, 2]])\n",
    "b = np.array([[1,2,3,4]],dtype='f').T\n",
    "Aug_A_b = np.column_stack((A,b))"
   ]
  },
  {
   "cell_type": "code",
   "execution_count": 28,
   "metadata": {},
   "outputs": [
    {
     "name": "stdout",
     "output_type": "stream",
     "text": [
      "La matrice A :\n",
      "----------------------------------------------------------------------------------------------------\n",
      "4  4  2  0  \n",
      "4  5  0  0  \n",
      "2  0  6  1  \n",
      "0  0  1  2  \n",
      "----------------------------------------------------------------------------------------------------\n",
      "La vecteur b.T\n",
      "----------------------------------------------------------------------------------------------------\n",
      "1  \n",
      "2  \n",
      "3  \n",
      "4  \n",
      "----------------------------------------------------------------------------------------------------\n",
      "La matrice augmente est :\n",
      "----------------------------------------------------------------------------------------------------\n",
      "4  4  2  0  1  \n",
      "4  5  0  0  2  \n",
      "2  0  6  1  3  \n",
      "0  0  1  2  4  \n",
      "----------------------------------------------------------------------------------------------------\n"
     ]
    }
   ],
   "source": [
    "print(\"La matrice A :\")\n",
    "matprint(A)\n",
    "print(\"La vecteur b.T\")\n",
    "matprint(b)\n",
    "print(\"La matrice augmente est :\")\n",
    "matprint(Aug_A_b)"
   ]
  },
  {
   "cell_type": "markdown",
   "metadata": {},
   "source": [
    "---\n",
    "## Methode de Gauss :\n",
    "- ### Matrice triangulaire superieur :\n",
    "Avant de passer a l'algorithme rappelons d'abord le principe de la methode de gauss :\n",
    "<br>\n",
    "<br>\n",
    "![](assets\\1.png)"
   ]
  },
  {
   "cell_type": "markdown",
   "metadata": {},
   "source": [
    "D'ou la methode de gauss consiste a passer par plusieur matrice de passage qui sert a transformer le systeme initiale et le changer a un systeme triangulaire superieur a l'aide des operations elementaire, et on peut l'implementer dans python a l'aide de l'algorithme suivant:\n",
    "- ### Algorithme de la methode de Gauss :"
   ]
  },
  {
   "cell_type": "markdown",
   "metadata": {},
   "source": [
    "![](assets/5.png)"
   ]
  },
  {
   "cell_type": "markdown",
   "metadata": {},
   "source": [
    "- ### implementation sous Python :"
   ]
  },
  {
   "cell_type": "code",
   "execution_count": 29,
   "metadata": {},
   "outputs": [],
   "source": [
    "\n",
    "def GaussSeidel(A,b):\n",
    "    w = list()\n",
    "    Aug_A = np.column_stack((A,b))\n",
    "    n = np.shape(A)[0]\n",
    "    x = np.array([np.zeros(n)],float).T\n",
    "    \n",
    "    for i in range(n):\n",
    "        if Aug_A[i][i] == 0.0:\n",
    "            sys.exit('Divide by zero detected!')\n",
    "   \n",
    "        for j in range(i+1, n):\n",
    "            ratio = Aug_A[j][i]/Aug_A[i][i]\n",
    "            \n",
    "            for k in range(n+1):\n",
    "                Aug_A[j][k] = Aug_A[j][k] - ratio * Aug_A[i][k]\n",
    "            print(f\"l{j} -> l{j} - {ratio} * l{i}\")\n",
    "            matprint(Aug_A)\n",
    "            L = np.identity(4)\n",
    "            L[j][i] = - ratio\n",
    "            w.append(L) \n",
    "            \n",
    "    x[n-1] = Aug_A[n-1][n]/Aug_A[n-1][n-1]\n",
    "    \n",
    "    for i in range(n-2,-1,-1):\n",
    "        x[i] = Aug_A[i][n]\n",
    "     \n",
    "        for j in range(i+1,n):\n",
    "            x[i] = x[i] - Aug_A[i][j]*x[j]\n",
    "\n",
    "        x[i] = x[i]/Aug_A[i][i]\n",
    "\n",
    "    L = np.linalg.multi_dot([w[5],w[4],w[3],w[2],w[1],w[0]])\n",
    "    L = np.linalg.inv(L)\n",
    "    U = np.linalg.multi_dot([w[5],w[4],w[3],w[2],w[1],w[0],A])\n",
    "    return x,w,L,U"
   ]
  },
  {
   "cell_type": "markdown",
   "metadata": {},
   "source": [
    "Voyons le resultats de la methode par Gauss avec les etapes de l'echelonnemt :"
   ]
  },
  {
   "cell_type": "code",
   "execution_count": 30,
   "metadata": {},
   "outputs": [
    {
     "name": "stdout",
     "output_type": "stream",
     "text": [
      "l1 -> l1 - 1.0 * l0\n",
      "----------------------------------------------------------------------------------------------------\n",
      "4  4   2  0  1  \n",
      "0  1  -2  0  1  \n",
      "2  0   6  1  3  \n",
      "0  0   1  2  4  \n",
      "----------------------------------------------------------------------------------------------------\n",
      "l2 -> l2 - 0.5 * l0\n",
      "----------------------------------------------------------------------------------------------------\n",
      "4   4   2  0    1  \n",
      "0   1  -2  0    1  \n",
      "0  -2   5  1  2.5  \n",
      "0   0   1  2    4  \n",
      "----------------------------------------------------------------------------------------------------\n",
      "l3 -> l3 - 0.0 * l0\n",
      "----------------------------------------------------------------------------------------------------\n",
      "4   4   2  0    1  \n",
      "0   1  -2  0    1  \n",
      "0  -2   5  1  2.5  \n",
      "0   0   1  2    4  \n",
      "----------------------------------------------------------------------------------------------------\n",
      "l2 -> l2 - -2.0 * l1\n",
      "----------------------------------------------------------------------------------------------------\n",
      "4  4   2  0    1  \n",
      "0  1  -2  0    1  \n",
      "0  0   1  1  4.5  \n",
      "0  0   1  2    4  \n",
      "----------------------------------------------------------------------------------------------------\n",
      "l3 -> l3 - 0.0 * l1\n",
      "----------------------------------------------------------------------------------------------------\n",
      "4  4   2  0    1  \n",
      "0  1  -2  0    1  \n",
      "0  0   1  1  4.5  \n",
      "0  0   1  2    4  \n",
      "----------------------------------------------------------------------------------------------------\n",
      "l3 -> l3 - 1.0 * l2\n",
      "----------------------------------------------------------------------------------------------------\n",
      "4  4   2  0     1  \n",
      "0  1  -2  0     1  \n",
      "0  0   1  1   4.5  \n",
      "0  0   0  1  -0.5  \n",
      "----------------------------------------------------------------------------------------------------\n",
      "La solution par methode de Gauss\n",
      "----------------------------------------------------------------------------------------------------\n",
      "-13.25  11  5  -0.5  \n",
      "----------------------------------------------------------------------------------------------------\n"
     ]
    }
   ],
   "source": [
    "x1,w,L,U= GaussSeidel(A,b)\n",
    "print(\"La solution par methode de Gauss\")\n",
    "matprint(x1.T)"
   ]
  },
  {
   "cell_type": "markdown",
   "metadata": {},
   "source": [
    "la solution finale est :\n",
    "&nbsp;&nbsp; $x = \\begin{bmatrix} -13.25 \\\\ 11 \\\\ 5 \\\\ 0.5 \\end{bmatrix}$"
   ]
  },
  {
   "cell_type": "markdown",
   "metadata": {},
   "source": [
    "- ### Decomposition $LU$ Par methode de Gauss:"
   ]
  },
  {
   "cell_type": "markdown",
   "metadata": {},
   "source": [
    "On peut obtenir la decomposition $LU$ a l'aide de methode de Gauss d'ou le produit des matrice de permutation par la matrice $A$ nous donne la matrice $U$ :\\\n",
    "Par exemple :\n",
    "pour l'operation &nbsp;&nbsp; $l_{1} -> l_{1} - 1.0 \\times l{_0}$\\\n",
    "<br>\n",
    "$w_{0} = \\begin{bmatrix}1& 0& 0& 0& \\\\ -1& 1& 0& 0& \\\\ 0& 0& 1& 0& \\\\ 0& 0& 0& 1& \\end{bmatrix}$\\\n",
    "&nbsp;&nbsp;&nbsp;&nbsp;&nbsp;&nbsp;&nbsp;&nbsp;&nbsp;&nbsp;&nbsp;&nbsp;&nbsp;&nbsp;&nbsp;&nbsp;&nbsp;&nbsp;&nbsp;&nbsp;&nbsp;&nbsp;&nbsp;&nbsp;&nbsp;&nbsp;&nbsp;&nbsp;$\\vdots$\n",
    "<br>\\\n",
    "d'ou on proced de meme facons jusqua quand obtenue notre matrice $U$ a l'aide de Gauss, et pour lamtrice $L$ on peut l'avoir par :\n",
    "\n",
    "$W = w_{0}w_{1}w_{2} \\cdots w_{n}$\n",
    "\n",
    "avec : $WA = U$\n",
    "et \n",
    "$WA = U \\Leftrightarrow A = W^{-1}U$ on posons $W^{-1} = L$\\\n",
    "On peut voir tout les matrice de permutation par"
   ]
  },
  {
   "cell_type": "code",
   "execution_count": 31,
   "metadata": {},
   "outputs": [
    {
     "name": "stdout",
     "output_type": "stream",
     "text": [
      "la matrice w[0]\n",
      "----------------------------------------------------------------------------------------------------\n",
      " 1  0  0  0  \n",
      "-1  1  0  0  \n",
      " 0  0  1  0  \n",
      " 0  0  0  1  \n",
      "----------------------------------------------------------------------------------------------------\n",
      "la matrice w[1]\n",
      "----------------------------------------------------------------------------------------------------\n",
      "   1  0  0  0  \n",
      "   0  1  0  0  \n",
      "-0.5  0  1  0  \n",
      "   0  0  0  1  \n",
      "----------------------------------------------------------------------------------------------------\n",
      "la matrice w[2]\n",
      "----------------------------------------------------------------------------------------------------\n",
      " 1  0  0  0  \n",
      " 0  1  0  0  \n",
      " 0  0  1  0  \n",
      "-0  0  0  1  \n",
      "----------------------------------------------------------------------------------------------------\n",
      "la matrice w[3]\n",
      "----------------------------------------------------------------------------------------------------\n",
      "1  0  0  0  \n",
      "0  1  0  0  \n",
      "0  2  1  0  \n",
      "0  0  0  1  \n",
      "----------------------------------------------------------------------------------------------------\n",
      "la matrice w[4]\n",
      "----------------------------------------------------------------------------------------------------\n",
      "1   0  0  0  \n",
      "0   1  0  0  \n",
      "0   0  1  0  \n",
      "0  -0  0  1  \n",
      "----------------------------------------------------------------------------------------------------\n",
      "la matrice w[5]\n",
      "----------------------------------------------------------------------------------------------------\n",
      "1  0   0  0  \n",
      "0  1   0  0  \n",
      "0  0   1  0  \n",
      "0  0  -1  1  \n",
      "----------------------------------------------------------------------------------------------------\n"
     ]
    }
   ],
   "source": [
    "for i in range(6):\n",
    "    print(f\"la matrice w[{i}]\")\n",
    "    matprint(w[i])"
   ]
  },
  {
   "cell_type": "markdown",
   "metadata": {},
   "source": [
    "Donc on aurra la decomposition de $LU$ par la forme :"
   ]
  },
  {
   "cell_type": "code",
   "execution_count": 32,
   "metadata": {},
   "outputs": [
    {
     "name": "stdout",
     "output_type": "stream",
     "text": [
      "La decomposition U methode de Gauss\n",
      "----------------------------------------------------------------------------------------------------\n",
      "4  4   2  0  \n",
      "0  1  -2  0  \n",
      "0  0   1  1  \n",
      "0  0   0  1  \n",
      "----------------------------------------------------------------------------------------------------\n",
      "La decomposition L methode de Gauss\n",
      "----------------------------------------------------------------------------------------------------\n",
      "  1  -0  -0  -0  \n",
      "  1   1   0   0  \n",
      "0.5  -2   1  -0  \n",
      "  0   0   1   1  \n",
      "----------------------------------------------------------------------------------------------------\n",
      "solution LU de methode de Gauss\n",
      "----------------------------------------------------------------------------------------------------\n",
      "-13.25  11  5  -0.5  \n",
      "----------------------------------------------------------------------------------------------------\n"
     ]
    }
   ],
   "source": [
    "print(\"La decomposition U methode de Gauss\")\n",
    "matprint(U)\n",
    "print(\"La decomposition L methode de Gauss\")\n",
    "matprint(L)   \n",
    "print(\"solution LU de methode de Gauss\")\n",
    "x2 = solver(L,U,b)\n",
    "matprint(x2)\n",
    "    "
   ]
  },
  {
   "cell_type": "markdown",
   "metadata": {},
   "source": [
    "---"
   ]
  },
  {
   "cell_type": "markdown",
   "metadata": {},
   "source": [
    "\n",
    "## Methode de Choleskey\n",
    "On cherche la matrice :\n",
    "$L=\\begin{bmatrix}\n",
    "l_{11}\\\\\n",
    "l_{21} & l_{22}\\\\\n",
    "\\vdots & \\vdots & \\ddots\\\\\n",
    "l_{n1} & l_{n2} & \\cdots & l_{nn}\n",
    "\\end{bmatrix}$\n",
    "\n",
    "De l'égalité $A = LL^{T}$ on déduit :\n",
    "\n",
    "$a_{ij}=\\left(LL^{T}\\right)_{ij}={\\sum_{k=1}^{n}l_{ik}l_{jk}}={\\sum_{k=1}^{\\min\\left\\{ i,j\\right\\} }l_{ik}l_{jk}},\\;1\\leq i,j\\leq n$\n",
    "\n",
    "puisque $l_{pq}=0$ si $1 ≤ p < q ≤ n$.\n",
    "\n",
    "La matrice $A$ étant symétrique, il suffit que les relations ci-dessus soient vérifiées pour $i ≤ j$, c'est-à-dire que les éléments $l_{ij}$ de la matrice $L$ doivent satisfaire :\n",
    "\n",
    "$a_{ij}={\\sum_{k=1}^{i}l_{ik}l_{jk}},\\;1\\leq i\\leq j\\leq n$\n",
    "\n",
    "Pour $i=1$, on détermine la première colonne de $L$ :\n",
    "\n",
    "$a_{11}=l_{11}l_{11}$ d'où $l_{11}=a_{11}$\n",
    "$a_{1j}=l_{11}l_{j1}$ d'où $l_{j1}=a_{1j}l_{11}$ ,$2≤j≤$\n",
    "\n",
    "On détermine la i-ème colonne de $L 2 ≤ i ≤ n$, après avoir calculé les (i–1) premières colonnes :\n",
    "\n",
    "$a_{ii}=l_{i1}l_{i1}+\\ldots+l_{ii}l_{ii}$ d'où $l_{ii}= \\sqrt{{a_{ii}-{\\sum_{k=1}^{i-1}l_{ik}^{2}}}}$\n",
    "\n",
    "$a_{ij}=l_{i1}l_{j1}+\\ldots+l_{ii}l_{ji}$ d'où $l_{ji}=\\frac{a_{ij}-{\\sum_{k=1}^{i-1}l_{ik}l_{jk}}}{l_{ii}},\\;\\;\\;i+1\\leq j\\leq n$\n",
    "\n",
    "Il résulte du théorème précédent qu'il est possible de choisir tous les éléments $l_{ii}>0$ en assurant que toutes les quantités\n",
    "\n",
    "$a_{11},\\ldots,a_{ii}-{\\sum_{k=1}^{i-1}l_{ik}^{2}},\\ldots$\n",
    "\n",
    "sont positives.\n",
    "\n",
    "![](assets/6.png)"
   ]
  },
  {
   "cell_type": "markdown",
   "metadata": {},
   "source": [
    "- ### Algorithme Cholesky :"
   ]
  },
  {
   "cell_type": "code",
   "execution_count": 33,
   "metadata": {},
   "outputs": [],
   "source": [
    "def cholesky(A):\n",
    "    L = np.zeros_like(A, float)\n",
    "    n = len(L)\n",
    "    for i in range(n):\n",
    "        for j in range(i+1):\n",
    "            if i==j:\n",
    "                val = A[i,i] - np.sum(np.square(L[i,:i]))\n",
    "                # if diagonal values are negative return zero - not throw exception\n",
    "                if val<0:\n",
    "                    return 0.0\n",
    "                L[i,i] = np.sqrt(val)\n",
    "            else:\n",
    "                L[i,j] = (A[i,j] - np.sum(L[i,:j]*L[j,:j]))/L[j,j]\n",
    "                \n",
    "    return L"
   ]
  },
  {
   "cell_type": "markdown",
   "metadata": {},
   "source": [
    "La fonction `Cholesky()` prend la matrice $A$ comme argument et retourne la matrice $L$, et avec l'aide \n",
    "de la fonction  `solver()`qui prend $U$,$L$ et $b$ comme argument et retourne les valuers du vecteur $x$. "
   ]
  },
  {
   "cell_type": "code",
   "execution_count": 34,
   "metadata": {},
   "outputs": [],
   "source": [
    "def solver(L,U,b):\n",
    "  L=np.array(L, float)\n",
    "  U=np.array(U, float)\n",
    "  b=np.array(b, float)\n",
    "\n",
    "  n,_=np.shape(L)\n",
    "  y=np.zeros(n)\n",
    "  x=np.zeros(n)\n",
    "\n",
    "# Forward substitution\n",
    "  for i in range(n):\n",
    "    sumj=0\n",
    "    for j in range(i):\n",
    "      sumj += L[i,j]*y[j]\n",
    "    y[i]=(b[i]-sumj)/L[i,i]\n",
    "\n",
    "# Backward substitution  \n",
    "  for i in range(n-1, -1, -1):\n",
    "    sumj=0\n",
    "    for j in range(i+1,n):\n",
    "      sumj += U[i,j] * x[j]\n",
    "    x[i]=(y[i]-sumj)/U[i,i]\n",
    "  \n",
    "  return np.array([x])"
   ]
  },
  {
   "cell_type": "code",
   "execution_count": 35,
   "metadata": {},
   "outputs": [
    {
     "name": "stdout",
     "output_type": "stream",
     "text": [
      "La matrice triangulaire inferieur L :\n",
      "----------------------------------------------------------------------------------------------------\n",
      "2   0  0  0  \n",
      "2   1  0  0  \n",
      "1  -2  1  0  \n",
      "0   0  1  1  \n",
      "----------------------------------------------------------------------------------------------------\n",
      "La matrice triangulaire superieur U :\n",
      "----------------------------------------------------------------------------------------------------\n",
      "2  2   1  0  \n",
      "0  1  -2  0  \n",
      "0  0   1  1  \n",
      "0  0   0  1  \n",
      "----------------------------------------------------------------------------------------------------\n",
      "La solution par methode de Cholesky\n",
      "----------------------------------------------------------------------------------------------------\n",
      "-13.25  11  5  -0.5  \n",
      "----------------------------------------------------------------------------------------------------\n"
     ]
    }
   ],
   "source": [
    "L = cholesky(A)\n",
    "print('La matrice triangulaire inferieur L :')\n",
    "matprint(L)\n",
    "U = np.transpose(L)\n",
    "print('La matrice triangulaire superieur U :')\n",
    "matprint(U)\n",
    "print(\"La solution par methode de Cholesky\")\n",
    "x2 = solver(L, U, b)\n",
    "matprint(x2)"
   ]
  },
  {
   "cell_type": "markdown",
   "metadata": {},
   "source": [
    "la solution finale est :\n",
    "&nbsp;&nbsp; $x = \\begin{bmatrix} -13.25 \\\\ 11 \\\\ 5 \\\\ 0.5 \\end{bmatrix}$\\\n",
    "D'ou on constate qu'on eu le meme resultat par deux methode differente."
   ]
  },
  {
   "cell_type": "markdown",
   "metadata": {},
   "source": [
    "---\n",
    "## Matrice symetrique definie positife :\n",
    "![](assets/4.png)"
   ]
  },
  {
   "cell_type": "markdown",
   "metadata": {},
   "source": [
    "* ### Par la methode des valeurs propre :"
   ]
  },
  {
   "cell_type": "code",
   "execution_count": 36,
   "metadata": {},
   "outputs": [
    {
     "name": "stdout",
     "output_type": "stream",
     "text": [
      "la matrice A est superieur definie positive.\n"
     ]
    },
    {
     "data": {
      "text/plain": [
       "True"
      ]
     },
     "execution_count": 36,
     "metadata": {},
     "output_type": "execute_result"
    }
   ],
   "source": [
    "def is_pos_def(A):\n",
    "    if np.all(np.linalg.eigvals(A) > 0):\n",
    "        print('la matrice A est superieur definie positive.')\n",
    "        return True\n",
    "    else:\n",
    "        print('la matrice A n\\'est pas superieur definie positive.')\n",
    "        return False\n",
    "\n",
    "is_pos_def(A)"
   ]
  },
  {
   "cell_type": "markdown",
   "metadata": {},
   "source": [
    "* ### Par les sous Matrice"
   ]
  },
  {
   "cell_type": "code",
   "execution_count": 37,
   "metadata": {},
   "outputs": [
    {
     "name": "stdout",
     "output_type": "stream",
     "text": [
      "---------------------------------------------------------------------------------------------------- \n",
      "Les sous matrice A :\n",
      " ----------------------------------------------------------------------------------------------------\n",
      "----------------------------------------------------------------------------------------------------\n",
      "4  \n",
      "----------------------------------------------------------------------------------------------------\n",
      "sont det(a1) = 4.0\n",
      "---------------------------------------------------------------------------------------------------- \n",
      "Les sous matrice A :\n",
      " ----------------------------------------------------------------------------------------------------\n",
      "----------------------------------------------------------------------------------------------------\n",
      "4  4  \n",
      "4  5  \n",
      "----------------------------------------------------------------------------------------------------\n",
      "sont det(a22) = 4.0 \n",
      "---------------------------------------------------------------------------------------------------- \n",
      "Les sous matrice A :\n",
      " ----------------------------------------------------------------------------------------------------\n",
      "----------------------------------------------------------------------------------------------------\n",
      "4  4  2  \n",
      "4  5  0  \n",
      "2  0  6  \n",
      "----------------------------------------------------------------------------------------------------\n",
      "sont det(a3) = 4.0 \n",
      "---------------------------------------------------------------------------------------------------- \n",
      "Les sous matrice A :\n",
      " ----------------------------------------------------------------------------------------------------\n",
      "----------------------------------------------------------------------------------------------------\n",
      "4  4  2  0  \n",
      "4  5  0  0  \n",
      "2  0  6  1  \n",
      "0  0  1  2  \n",
      "----------------------------------------------------------------------------------------------------\n",
      "sont det(a4) = 4.0 \n"
     ]
    }
   ],
   "source": [
    "print(\"-\"*100,\"\\nLes sous matrice A :\\n\",\"-\"*100)\n",
    "a1 = A[0:1,0:1]\n",
    "matprint(a1)\n",
    "print(f\"sont det(a1) = {np.linalg.det(a1):0.4}\")\n",
    "print(\"-\"*100,\"\\nLes sous matrice A :\\n\",\"-\"*100)\n",
    "a2 = A[0:2,0:2]\n",
    "matprint(a2)\n",
    "print(f\"sont det(a22) = {np.linalg.det(a2):0.4} \")\n",
    "print(\"-\"*100,\"\\nLes sous matrice A :\\n\",\"-\"*100)\n",
    "a3 = A[0:3,0:3]\n",
    "matprint(a3)\n",
    "print(f\"sont det(a3) = {np.linalg.det(a3):0.4} \")\n",
    "print(\"-\"*100,\"\\nLes sous matrice A :\\n\",\"-\"*100)\n",
    "a4 = A[0:4,0:4]\n",
    "matprint(a4)\n",
    "print(f\"sont det(a4) = {np.linalg.det(a4):0.4} \")"
   ]
  }
 ],
 "metadata": {
  "interpreter": {
   "hash": "8051caa2fe27c6a3084100d986278cbd143e57973caaed8c521b78e938c6c1a6"
  },
  "kernelspec": {
   "display_name": "Python 3.9.9 64-bit (windows store)",
   "language": "python",
   "name": "python3"
  },
  "language_info": {
   "codemirror_mode": {
    "name": "ipython",
    "version": 3
   },
   "file_extension": ".py",
   "mimetype": "text/x-python",
   "name": "python",
   "nbconvert_exporter": "python",
   "pygments_lexer": "ipython3",
   "version": "3.9.0"
  },
  "orig_nbformat": 4
 },
 "nbformat": 4,
 "nbformat_minor": 2
}
